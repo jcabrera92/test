{
 "cells": [
  {
   "cell_type": "markdown",
   "id": "7b86ea8c",
   "metadata": {},
   "source": [
    "# 🐍 Programming Assignment III: Functions in Python\n",
    "\n",
    "**Instructions:**\n",
    "- Complete each of the five exercises by writing a function as described.\n",
    "- Do not modify the test cases provided.\n",
    "- Your function should produce the expected output shown in each example.\n",
    "- Use comments in your code and markdown blocks to explain your logic!!\n",
    "- Do not use global variables.\n",
    "- Run the notebook after completing each exercise to check your work and submit .html report to Canvas."
   ]
  },
  {
   "cell_type": "markdown",
   "id": "c72a7cd7",
   "metadata": {},
   "source": [
    "## Exercise 1: Even or Odd Counter\n",
    "Write a function `count_even_odd(numbers)` that takes a list of integers and returns the number of even and odd numbers."
   ]
  },
  {
   "cell_type": "code",
   "execution_count": 25,
   "id": "82e204af",
   "metadata": {},
   "outputs": [
    {
     "name": "stdout",
     "output_type": "stream",
     "text": [
      "(2, 3)\n",
      "(3, 0)\n"
     ]
    }
   ],
   "source": [
    "# TODO: Write your function here\n",
    "def count_even_odd(numbers):\n",
    "\n",
    "    evenCount = 0\n",
    "    oddCount = 0\n",
    "\n",
    "    for num in numbers:\n",
    "        if num % 2 == 0:\n",
    "            evenCount += 1\n",
    "        else:\n",
    "            oddCount += 1\n",
    "    return (evenCount, oddCount)\n",
    "# Test cases (do not modify)\n",
    "print (count_even_odd([1, 2, 3, 4, 5]))  # Expected: (2, 3)\n",
    "print (count_even_odd([2, 4, 6])  )      # Expected: (3, 0)"
   ]
  },
  {
   "cell_type": "markdown",
   "id": "3527cc0f",
   "metadata": {},
   "source": [
    "## Exercise 2: City Temperature Tracker\n",
    "\n",
    "In this exercise, you’ll write a function that helps track and analyze city temperatures.\n",
    "\n",
    "### Your Task:\n",
    "Write a function called `analyze_temperatures(city, temps_in_f)` that takes:\n",
    "\n",
    "- `city`: a string representing the name of a city  \n",
    "- `temps_in_f`: a **list of numbers** representing daily temperatures in **Fahrenheit**\n",
    "\n",
    "Your function should:\n",
    "\n",
    "1. Convert each temperature in the list from **Fahrenheit to Celsius** using the formula:  \n",
    "   $ \n",
    "   C = (F - 32) \\times \\frac{5}{9}\n",
    "   $ \n",
    "\n",
    "2. Calculate:\n",
    "   - The **average** temperature in Celsius  \n",
    "   - The **highest** temperature in Celsius  \n",
    "   - The **lowest** temperature in Celsius  \n",
    "\n",
    "3. Print a sentence using this format:\n"
   ]
  },
  {
   "cell_type": "code",
   "execution_count": 26,
   "id": "078f7de0",
   "metadata": {},
   "outputs": [
    {
     "name": "stdout",
     "output_type": "stream",
     "text": [
      "In Berlin, the average temperature was 23.9°C, with a high of 26.7°C and a low of 21.1°C\n"
     ]
    }
   ],
   "source": [
    "# TODO: Write your functions here\n",
    "\n",
    "def analyze_temperatures(city, temps_in_f):\n",
    "    \n",
    "    temps_in_c = [(item -32.) * 5/9 for item in temps_in_f]\n",
    "\n",
    "    average = sum(temps_in_c) / len(temps_in_c)\n",
    "    high = max(temps_in_c)\n",
    "    low = min(temps_in_c)\n",
    "\n",
    "\n",
    "\n",
    "\n",
    "    print(f\"In {city}, the average temperature was {average:.1f}°C, with a high of {high:.1f}°C and a low of {low:.1f}°C\")    \n",
    "\n",
    "# Test case (do not modify)\n",
    "analyze_temperatures(\"Berlin\", [70, 75, 80]) # Expected Output:\n",
    "# In Berlin, the average temperature was 23.9°C, with a high of 26.7°C and a low of 21.1°C."
   ]
  },
  {
   "cell_type": "markdown",
   "id": "f23b688f",
   "metadata": {},
   "source": [
    "## Exercise 3: Secret Code Encoder\n",
    "Write two functions:\n",
    "- `encode_message(message)` replaces vowels with symbols: a→@, e→3, i→!, o→0, u→#\n",
    "- `decode_message(encoded)` converts the symbols back to the original vowels."
   ]
  },
  {
   "cell_type": "code",
   "execution_count": 52,
   "id": "f60f1a21",
   "metadata": {},
   "outputs": [
    {
     "name": "stdout",
     "output_type": "stream",
     "text": [
      "['h', '3', 'l', 'l', '0', ' ', 'w', '0', 'r', 'l', 'd']\n"
     ]
    },
    {
     "ename": "NameError",
     "evalue": "name 'decode_message' is not defined",
     "output_type": "error",
     "traceback": [
      "\u001b[1;31m---------------------------------------------------------------------------\u001b[0m",
      "\u001b[1;31mNameError\u001b[0m                                 Traceback (most recent call last)",
      "Cell \u001b[1;32mIn[52], line 29\u001b[0m\n\u001b[0;32m     27\u001b[0m \u001b[38;5;66;03m# Test cases (do not modify)\u001b[39;00m\n\u001b[0;32m     28\u001b[0m \u001b[38;5;28mprint\u001b[39m(encode_message(\u001b[38;5;124m\"\u001b[39m\u001b[38;5;124mhello world\u001b[39m\u001b[38;5;124m\"\u001b[39m))      \u001b[38;5;66;03m# Expected: h3ll0 w0rld\u001b[39;00m\n\u001b[1;32m---> 29\u001b[0m \u001b[38;5;28mprint\u001b[39m(\u001b[43mdecode_message\u001b[49m(\u001b[38;5;124m\"\u001b[39m\u001b[38;5;124mh3ll0 w0rld\u001b[39m\u001b[38;5;124m\"\u001b[39m))      \u001b[38;5;66;03m# Expected: hello world\u001b[39;00m\n",
      "\u001b[1;31mNameError\u001b[0m: name 'decode_message' is not defined"
     ]
    }
   ],
   "source": [
    "# TODO: Write your functions here\n",
    "def encode_message(message):\n",
    "\n",
    "    list1 = [ch for ch in message]\n",
    "\n",
    "    for ch in list1:\n",
    "        if ch == 'a':\n",
    "            qindex = list1.index(ch)\n",
    "            list1[qindex] = '@'\n",
    "        elif ch == 'e':\n",
    "            qindex = list1.index(ch)\n",
    "            list1[qindex] = '3'\n",
    "        elif ch == 'i':\n",
    "            qindex = list1.index(ch)\n",
    "            list1[qindex] = '!'\n",
    "        elif ch == 'o':\n",
    "            qindex = list1.index(ch)\n",
    "            list1[qindex] = '0'\n",
    "        elif ch == 'u':\n",
    "            qindex = list1.index(ch)\n",
    "            list1[qindex] = '#'\n",
    "    \n",
    "    return list1\n",
    "\n",
    "  \n",
    "            \n",
    "# Test cases (do not modify)\n",
    "print(encode_message(\"hello world\"))      # Expected: h3ll0 w0rld\n",
    "print(decode_message(\"h3ll0 w0rld\"))      # Expected: hello world\n"
   ]
  },
  {
   "cell_type": "markdown",
   "id": "e307b56b",
   "metadata": {},
   "source": [
    "## Exercise 4: Custom Calculator\n",
    "Write a function `custom_calculator(a, b, operation)` that performs the selected operation on two numbers.\n",
    "- Supported operations: 'add', 'subtract', 'multiply', 'divide'\n",
    "- Print the operation and result in a readable sentence.\n",
    "- Handle division by zero."
   ]
  },
  {
   "cell_type": "code",
   "execution_count": 28,
   "id": "8c911722",
   "metadata": {},
   "outputs": [
    {
     "name": "stdout",
     "output_type": "stream",
     "text": [
      "Adding 5 and 3 gives 8\n",
      "Dividing 10 and 2 gives 5.0\n",
      "Cannot divide by zero\n"
     ]
    }
   ],
   "source": [
    "# TODO: Write your function here\n",
    "\n",
    "def custom_calculator( a, b, operation):\n",
    "    if operation == \"add\":\n",
    "        print(f\"Adding {a} and {b} gives {a+b}\")\n",
    "    elif operation == 'subtract':\n",
    "        print(f\"Subtracting {a} and {b} gives {a-b}\")\n",
    "    elif operation == 'multiply':\n",
    "        print(f\"Multipplying {a} and {b} gives {a*b}\")\n",
    "    elif operation == 'divide':\n",
    "        if b == 0:\n",
    "            print(\"Cannot divide by zero\")\n",
    "        else:\n",
    "            print(f\"Dividing {a} and {b} gives {a/b}\")\n",
    "    else:\n",
    "        print(\"Invalid operation.\")\n",
    "\n",
    "# Test cases (do not modify)\n",
    "# Expected: Adding 5 and 3 gives 8\n",
    "custom_calculator(5, 3, \"add\")\n",
    "\n",
    "# Expected: Dividing 10 by 2 gives 5.0\n",
    "custom_calculator(10, 2, \"divide\")\n",
    "\n",
    "# Expected: Cannot divide by zero\n",
    "custom_calculator(7, 0, \"divide\")\n"
   ]
  },
  {
   "cell_type": "markdown",
   "id": "f6c39e55",
   "metadata": {},
   "source": [
    "## Exercise 5: Silly Story Generator\n",
    "Write a function `generate_story(name, place, object, emotion)` that:\n",
    "- Capitalizes the first letter of the name (check capitalize() function in Python).\n",
    "- Converts the emotion to ALL CAPS\n",
    "- Returns a multi-line string using all inputs."
   ]
  },
  {
   "cell_type": "code",
   "execution_count": 35,
   "id": "87be71cf",
   "metadata": {},
   "outputs": [
    {
     "name": "stdout",
     "output_type": "stream",
     "text": [
      "One day,Lena went to the library with a banana in hand \n",
      "Suddenly, they felt a SURPRISE!!!\n",
      "It was the begging of soemething unexpected...\n"
     ]
    }
   ],
   "source": [
    "# TODO: Write your function here\n",
    "def generate_story( name, place, object, emotion):\n",
    "    return(\n",
    "        f\"One day,{name.capitalize()} went to the {place} with a {object} in hand \\n\"\n",
    "        f'Suddenly, they felt a {emotion.upper()}!!!\\n'\n",
    "        'It was the begging of soemething unexpected...'\n",
    "    )\n",
    "# Test case (do not modify)\n",
    "# Expected:\n",
    "# One day, Lena went to library with a banana in hand.\n",
    "# Suddenly, they felt SURPRISE!!!.\n",
    "# It was the beginning of something unexpected...\n",
    "print(generate_story(\"lena\", \"library\", \"banana\", \"surprise\"))\n"
   ]
  }
 ],
 "metadata": {
  "kernelspec": {
   "display_name": "Python 3",
   "language": "python",
   "name": "python3"
  },
  "language_info": {
   "codemirror_mode": {
    "name": "ipython",
    "version": 3
   },
   "file_extension": ".py",
   "mimetype": "text/x-python",
   "name": "python",
   "nbconvert_exporter": "python",
   "pygments_lexer": "ipython3",
   "version": "3.13.1"
  }
 },
 "nbformat": 4,
 "nbformat_minor": 5
}
