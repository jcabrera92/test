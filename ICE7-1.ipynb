{
 "cells": [
  {
   "cell_type": "markdown",
   "id": "b2cfd4ce",
   "metadata": {},
   "source": [
    "# 🐍 ICE 7 – Working with Lists in Python\n",
    "\n",
    "In this in-class exercise, we'll explore the core functionality of **lists** in Python.\n",
    "You’ll practice:\n",
    "- Creating lists\n",
    "- Indexing and slicing\n",
    "- Using loops with lists\n",
    "- Applying list methods and built-in functions\n",
    "- Writing list comprehensions\n"
   ]
  },
  {
   "cell_type": "markdown",
   "id": "c94c047c",
   "metadata": {},
   "source": [
    "### Exercise 1: Creating and Printing Lists\n",
    "Create the following three lists:\n",
    "- A list of fruits: `\"apple\"`, `\"banana\"`, `\"cherry\"`\n",
    "- A list of numbers: `10, 20, 30, 40, 50`\n",
    "- A mixed list: `\"hello\"`, `3.14`, `42`, `True`\n",
    "\n",
    "Print each list using the `print()` function.\n"
   ]
  },
  {
   "cell_type": "code",
   "execution_count": 1,
   "id": "fa5a56e4",
   "metadata": {},
   "outputs": [
    {
     "name": "stdout",
     "output_type": "stream",
     "text": [
      "['apple', 'banana', 'cherry']\n",
      "[10, 20, 30, 40, 50]\n",
      "['hello', 3.14, 42, True]\n"
     ]
    }
   ],
   "source": [
    "fruits = ['apple', 'banana', 'cherry']\n",
    "nums = [10,20,30,40,50]\n",
    "mixed = [\"hello\", 3.14, 42,True]\n",
    "\n",
    "print(fruits)\n",
    "print(nums)\n",
    "print(mixed)"
   ]
  },
  {
   "cell_type": "markdown",
   "id": "388e6e4d",
   "metadata": {},
   "source": [
    "### Exercise 2: Indexing and Slicing\n",
    "Use indexing and slicing to:\n",
    "- Print the first fruit\n",
    "- Print the last number\n",
    "- Print a slice of the `numbers` list from the second to the fourth item\n"
   ]
  },
  {
   "cell_type": "code",
   "execution_count": 7,
   "id": "d0d85286",
   "metadata": {},
   "outputs": [
    {
     "name": "stdout",
     "output_type": "stream",
     "text": [
      "['apple']\n",
      "[50]\n",
      "[20, 30, 40]\n"
     ]
    }
   ],
   "source": [
    "print (fruits [:1])\n",
    "\n",
    "print (nums[-1:])\n",
    "\n",
    "print(nums[1:4])\n"
   ]
  },
  {
   "cell_type": "markdown",
   "id": "420b228e",
   "metadata": {},
   "source": [
    "### Exercise 3: Iterating Over a List\n",
    "Use a `for` loop to iterate over the `fruits` list and print each item on a new line.\n"
   ]
  },
  {
   "cell_type": "code",
   "execution_count": 8,
   "id": "0c7c9a0e",
   "metadata": {},
   "outputs": [
    {
     "name": "stdout",
     "output_type": "stream",
     "text": [
      "apple\n",
      "banana\n",
      "cherry\n"
     ]
    }
   ],
   "source": [
    "for ch in fruits:\n",
    "    print (ch)"
   ]
  },
  {
   "cell_type": "markdown",
   "id": "aeffe6bf",
   "metadata": {},
   "source": [
    "### Exercise 4: Using List Methods\n",
    "Modify the `fruits` list by:\n",
    "- Adding `\"orange\"` to the end of the list\n",
    "- Inserting `\"blueberry\"` at position 1\n",
    "- Removing `\"banana\"` from the list\n",
    "- Reversing the list\n",
    "- Sorting the list in ascending order\n",
    "\n",
    "Print the list after each operation to see the changes.\n"
   ]
  },
  {
   "cell_type": "code",
   "execution_count": 2,
   "id": "4369963f",
   "metadata": {},
   "outputs": [
    {
     "name": "stdout",
     "output_type": "stream",
     "text": [
      "['apple', 'banana', 'cherry', 'Orange']\n",
      "['Blueberry', 'apple', 'banana', 'cherry', 'Orange']\n",
      "['Blueberry', 'apple', 'cherry', 'Orange']\n",
      "['Orange', 'cherry', 'apple', 'Blueberry']\n",
      "['Blueberry', 'Orange', 'apple', 'cherry']\n"
     ]
    }
   ],
   "source": [
    "fruits.append(\"Orange\")\n",
    "print(fruits)\n",
    "\n",
    "fruits.insert(0,'Blueberry')\n",
    "print(fruits)\n",
    "\n",
    "fruits.remove('banana')\n",
    "print(fruits)\n",
    "\n",
    "fruits.reverse()\n",
    "print(fruits)\n",
    "\n",
    "fruits.sort()\n",
    "print(fruits)\n",
    "\n"
   ]
  },
  {
   "cell_type": "markdown",
   "id": "80863192",
   "metadata": {},
   "source": [
    "### Exercise 5: Built-in Functions with Lists\n",
    "Use the following built-in functions with the `numbers` list:\n",
    "- `len()` to get the number of elements\n",
    "- `max()` to get the largest number\n",
    "- `min()` to get the smallest number\n",
    "- `sum()` to get the total of all numbers\n"
   ]
  },
  {
   "cell_type": "code",
   "execution_count": 10,
   "id": "789cbee4",
   "metadata": {},
   "outputs": [
    {
     "name": "stdout",
     "output_type": "stream",
     "text": [
      "5\n",
      "50\n",
      "10\n",
      "150\n"
     ]
    }
   ],
   "source": [
    "print (len(nums))\n",
    "print (max(nums))\n",
    "print (min(nums))\n",
    "print (sum(nums))"
   ]
  },
  {
   "cell_type": "markdown",
   "id": "1e660786",
   "metadata": {},
   "source": [
    "### Exercise 6: List Comprehensions\n",
    "Create new lists using list comprehensions:\n",
    "- A list of squares of numbers from 1 to 5\n",
    "- A list of even numbers from the `numbers` list\n"
   ]
  },
  {
   "cell_type": "code",
   "execution_count": 3,
   "id": "ec7eca42",
   "metadata": {},
   "outputs": [
    {
     "name": "stdout",
     "output_type": "stream",
     "text": [
      "[2, 4, 6, 8, 10]\n",
      "[1, 4, 9, 16, 25]\n"
     ]
    }
   ],
   "source": [
    "numbers = [1,2,3,4,5,6,7,8,9,10]\n",
    "\n",
    "evenList = [item for item in numbers if item % 2 ==0] \n",
    "squareList = [j**2 for j in range (1,6)]\n",
    "\n",
    "\n",
    "\n",
    "print(evenList)\n",
    "print(squareList)"
   ]
  },
  {
   "cell_type": "markdown",
   "id": "ab24c300",
   "metadata": {},
   "source": [
    "### Exercise 6: Plotting with matplotlib package\n",
    "Make 3 plots using matplotlib library:\n",
    "- Line plot\n",
    "- Bar plot\n",
    "- Pie chart\n"
   ]
  },
  {
   "cell_type": "code",
   "execution_count": 2,
   "id": "c946a6e2",
   "metadata": {},
   "outputs": [],
   "source": [
    "import matplotlib.pyplot as plt\n",
    "def line():\n",
    "    x_cords = [0,1,2,3,4]\n",
    "    y_cords = [0,3,1,5,2]\n",
    "\n",
    "    plt.plot(x_cords, y_cords)\n",
    "    plt.show\n",
    "\n",
    "def bar():\n",
    "    left_edges = [0,10,20,30,40]\n",
    "    height = [100,200,300,400,500]\n",
    "\n",
    "    plt.bar(left_edges, height)\n",
    "    plt.show\n",
    "\n",
    "def pie ():\n",
    "    values = [10,30,50,80]\n",
    "\n",
    "    plt.pie(values)\n",
    "    plt.show\n"
   ]
  },
  {
   "cell_type": "code",
   "execution_count": 3,
   "id": "add631f1",
   "metadata": {},
   "outputs": [
    {
     "data": {
      "image/png": "[encoded data removed]",
      "text/plain": [
       "<Figure size 640x480 with 1 Axes>"
      ]
     },
     "metadata": {},
     "output_type": "display_data"
    }
   ],
   "source": [
    "line()"
   ]
  },
  {
   "cell_type": "code",
   "execution_count": 4,
   "id": "2e90844c",
   "metadata": {},
   "outputs": [
    {
     "data": {
      "image/png": "[encoded data removed]",
      "text/plain": [
       "<Figure size 640x480 with 1 Axes>"
      ]
     },
     "metadata": {},
     "output_type": "display_data"
    }
   ],
   "source": [
    "bar()"
   ]
  },
  {
   "cell_type": "code",
   "execution_count": 5,
   "id": "9847d7b8",
   "metadata": {},
   "outputs": [
    {
     "data": {
      "image/png": "[encoded data removed]",
      "text/plain": [
       "<Figure size 640x480 with 1 Axes>"
      ]
     },
     "metadata": {},
     "output_type": "display_data"
    }
   ],
   "source": [
    "pie()"
   ]
  }
 ],
 "metadata": {
  "kernelspec": {
   "display_name": "Python 3",
   "language": "python",
   "name": "python3"
  },
  "language_info": {
   "codemirror_mode": {
    "name": "ipython",
    "version": 3
   },
   "file_extension": ".py",
   "mimetype": "text/x-python",
   "name": "python",
   "nbconvert_exporter": "python",
   "pygments_lexer": "ipython3",
   "version": "3.13.1"
  }
 },
 "nbformat": 4,
 "nbformat_minor": 5
}
