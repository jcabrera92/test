{
 "cells": [
  {
   "cell_type": "code",
   "execution_count": 2,
   "metadata": {},
   "outputs": [
    {
     "name": "stdout",
     "output_type": "stream",
     "text": [
      "J\n",
      "u\n",
      "l\n",
      "i\n",
      "e\n",
      "t\n"
     ]
    }
   ],
   "source": [
    "name = 'Juliet'\n",
    "\n",
    "for ch in name:\n",
    "    print(ch)"
   ]
  },
  {
   "cell_type": "markdown",
   "metadata": {},
   "source": [
    "#### For every character in string \n",
    "##### if the charter equals 'T' or 't' add 1 to the running total."
   ]
  },
  {
   "cell_type": "code",
   "execution_count": 8,
   "metadata": {},
   "outputs": [
    {
     "name": "stdout",
     "output_type": "stream",
     "text": [
      "the letter t appears 4 times\n"
     ]
    }
   ],
   "source": [
    "total = 0\n",
    "my_string = input('Enter a string: ')\n",
    "\n",
    "for ch in my_string:\n",
    "    if ch == 'T' or ch == 't':\n",
    "        total += 1\n",
    "print(f'the letter t appears {total} times')"
   ]
  },
  {
   "cell_type": "code",
   "execution_count": 18,
   "metadata": {},
   "outputs": [
    {
     "name": "stdout",
     "output_type": "stream",
     "text": [
      "s\n",
      "cde\n",
      "abc\n",
      "defg\n",
      "abcdefg\n"
     ]
    }
   ],
   "source": [
    "my_string = 'Roses are red'\n",
    "\n",
    "print(my_string[4]) #starts at 0\n",
    "\n",
    "new_string = 'abcdefg'\n",
    "\n",
    "print (new_string [2:5])\n",
    "print (new_string [:3])\n",
    "print (new_string [3:])\n",
    "print (new_string [:])"
   ]
  },
  {
   "cell_type": "code",
   "execution_count": null,
   "metadata": {},
   "outputs": [
    {
     "name": "stdout",
     "output_type": "stream",
     "text": [
      "The string seven was found\n"
     ]
    }
   ],
   "source": [
    "text = 'Four score and seven years ago'\n",
    "\n",
    "if 'seven' in text:\n",
    "    print(\"The string seven was found\")\n",
    "else:\n",
    "    print(\"The string seven was not found\")"
   ]
  },
  {
   "cell_type": "code",
   "execution_count": 5,
   "metadata": {},
   "outputs": [
    {
     "data": {
      "text/plain": [
       "'AmaSpe721'"
      ]
     },
     "execution_count": 5,
     "metadata": {},
     "output_type": "execute_result"
    }
   ],
   "source": [
    "def get_login_name(first, last, id_number):\n",
    "    \n",
    "    first_part = first [0:3]\n",
    "    second_part = last [0:3]\n",
    "    last_part = id_number [-3:]\n",
    "\n",
    "    login_name = (first_part + second_part + last_part)\n",
    "    return (login_name)\n",
    "\n",
    "get_login_name (\"Amanda\", \"Spencer\", \"ENG6721\")"
   ]
  },
  {
   "cell_type": "code",
   "execution_count": null,
   "metadata": {},
   "outputs": [],
   "source": [
    "import pd"
   ]
  }
 ],
 "metadata": {
  "kernelspec": {
   "display_name": "Python 3",
   "language": "python",
   "name": "python3"
  },
  "language_info": {
   "codemirror_mode": {
    "name": "ipython",
    "version": 3
   },
   "file_extension": ".py",
   "mimetype": "text/x-python",
   "name": "python",
   "nbconvert_exporter": "python",
   "pygments_lexer": "ipython3",
   "version": "3.13.1"
  }
 },
 "nbformat": 4,
 "nbformat_minor": 2
}
